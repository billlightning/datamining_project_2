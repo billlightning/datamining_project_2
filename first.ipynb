{
 "cells": [
  {
   "cell_type": "code",
   "execution_count": 15,
   "metadata": {},
   "outputs": [],
   "source": [
    "import pandas as pd\n",
    "import numpy as np\n",
    "from sklearn.preprocessing import OneHotEncoder\n",
    "from sklearn.cluster import KMeans\n",
    "from sklearn.model_selection import train_test_split\n",
    "from sklearn.metrics import mean_squared_error\n",
    "\n",
    "# Load data\n",
    "ratings = pd.read_csv('ratings.csv')\n",
    "tags = pd.read_csv('tags.csv')\n",
    "movies = pd.read_csv('movies.csv')\n",
    "links = pd.read_csv('links.csv')"
   ]
  },
  {
   "cell_type": "markdown",
   "metadata": {},
   "source": [
    "Preprocessing"
   ]
  },
  {
   "cell_type": "code",
   "execution_count": 16,
   "metadata": {},
   "outputs": [],
   "source": [
    "\n",
    "# handle missing values\n",
    "movies['genres'] = movies['genres'].fillna('')\n",
    "\n",
    "# split genres into separate columns and one-hot encode\n",
    "movies['genres'] = movies['genres'].apply(lambda x: x.split('|') if isinstance(x, str) else [])\n",
    "\n",
    "genres_list = sorted(set(genre for sublist in movies['genres'].tolist() for genre in sublist))\n",
    "for genre in genres_list:\n",
    "    movies[genre] = movies['genres'].apply(lambda x: int(genre in x))"
   ]
  },
  {
   "cell_type": "markdown",
   "metadata": {},
   "source": [
    "Aggregating features "
   ]
  },
  {
   "cell_type": "code",
   "execution_count": 17,
   "metadata": {},
   "outputs": [],
   "source": [
    "# Calculate average rating per user and per movie\n",
    "user_avg_rating = ratings.groupby('userId')['rating'].mean().to_dict()\n",
    "movie_avg_rating = ratings.groupby('movieId')['rating'].mean().to_dict()\n",
    "\n",
    "# Total number of ratings per user and per movie\n",
    "user_rating_count = ratings.groupby('userId')['rating'].count().to_dict()\n",
    "movie_rating_count = ratings.groupby('movieId')['rating'].count().to_dict()\n"
   ]
  },
  {
   "cell_type": "markdown",
   "metadata": {},
   "source": [
    "Clustering  "
   ]
  },
  {
   "cell_type": "code",
   "execution_count": 18,
   "metadata": {},
   "outputs": [
    {
     "name": "stderr",
     "output_type": "stream",
     "text": [
      "c:\\Users\\zu777\\Lib\\site-packages\\sklearn\\cluster\\_kmeans.py:1416: FutureWarning: The default value of `n_init` will change from 10 to 'auto' in 1.4. Set the value of `n_init` explicitly to suppress the warning\n",
      "  super()._check_params_vs_input(X, default_n_init=10)\n",
      "c:\\Users\\zu777\\Lib\\site-packages\\sklearn\\cluster\\_kmeans.py:1416: FutureWarning: The default value of `n_init` will change from 10 to 'auto' in 1.4. Set the value of `n_init` explicitly to suppress the warning\n",
      "  super()._check_params_vs_input(X, default_n_init=10)\n"
     ]
    }
   ],
   "source": [
    "# Create user-item matrix\n",
    "user_item_matrix = ratings.pivot(index='userId', columns='movieId', values='rating').fillna(0)\n",
    "movie_item_matrix = ratings.pivot(index='movieId', columns='userId', values='rating').fillna(0)\n",
    "\n",
    "# Cluster users\n",
    "kmeans_user = KMeans(n_clusters=10, random_state=42).fit(user_item_matrix)\n",
    "user_clusters = kmeans_user.predict(user_item_matrix)\n",
    "user_cluster_map = {user_id: cluster for user_id, cluster in zip(user_item_matrix.index, user_clusters)}\n",
    "\n",
    "# Cluster movies\n",
    "kmeans_movie = KMeans(n_clusters=10, random_state=42).fit(movie_item_matrix)\n",
    "movie_clusters = kmeans_movie.predict(movie_item_matrix)\n",
    "movie_cluster_map = {movie_id: cluster for movie_id, cluster in zip(movie_item_matrix.index, movie_clusters)}\n"
   ]
  },
  {
   "cell_type": "markdown",
   "metadata": {},
   "source": [
    "Rule-based preference "
   ]
  },
  {
   "cell_type": "code",
   "execution_count": 19,
   "metadata": {},
   "outputs": [],
   "source": [
    "# Simple rule-based recommendations\n",
    "def get_similar_movies(movie_id, top_n=5):\n",
    "    movie_genres = set(movies.loc[movies['movieId'] == movie_id, 'genres'].values[0])\n",
    "    similar_movies = movies[movies['genres'].apply(lambda x: len(set(x) & movie_genres) > 0)]\n",
    "    similar_movies = similar_movies[similar_movies['movieId'] != movie_id]\n",
    "    return similar_movies.head(top_n)['movieId'].tolist()\n",
    "\n",
    "def get_user_preferences(user_id):\n",
    "    user_ratings = ratings[ratings['userId'] == user_id]\n",
    "    top_movies = user_ratings.sort_values(by='rating', ascending=False).head(5)\n",
    "    return top_movies['movieId'].tolist()"
   ]
  },
  {
   "cell_type": "markdown",
   "metadata": {},
   "source": [
    "Prediction"
   ]
  },
  {
   "cell_type": "code",
   "execution_count": 20,
   "metadata": {},
   "outputs": [],
   "source": [
    "def predict_rating(user_id, movie_id):\n",
    "    # Check if user_id and movie_id exist in the clusters\n",
    "    if user_id in user_cluster_map and movie_id in movie_cluster_map:\n",
    "        user_cluster = user_cluster_map[user_id]\n",
    "        movie_cluster = movie_cluster_map[movie_id]\n",
    "\n",
    "        # Use user preferences and similar movies for prediction\n",
    "        user_preferences = get_user_preferences(user_id)\n",
    "        similar_movies = get_similar_movies(movie_id)\n",
    "        \n",
    "        # Combine user preferences and similar movies' average rating\n",
    "        similar_ratings = ratings[ratings['movieId'].isin(similar_movies)]\n",
    "        if not similar_ratings.empty:\n",
    "            similar_avg_rating = similar_ratings['rating'].mean()\n",
    "            predicted_rating = (user_avg_rating.get(user_id, 2.5) + similar_avg_rating) / 2\n",
    "        else:\n",
    "            predicted_rating = user_avg_rating.get(user_id, 2.5)\n",
    "\n",
    "    else:\n",
    "        # no prior data on user or movie \n",
    "        global_avg_rating = ratings['rating'].mean()\n",
    "        predicted_rating = global_avg_rating\n",
    "\n",
    "    return predicted_rating"
   ]
  },
  {
   "cell_type": "markdown",
   "metadata": {},
   "source": [
    "Training + evaluating"
   ]
  },
  {
   "cell_type": "code",
   "execution_count": 21,
   "metadata": {},
   "outputs": [
    {
     "name": "stdout",
     "output_type": "stream",
     "text": [
      "MSE: 0.9419880932232476\n"
     ]
    }
   ],
   "source": [
    "from sklearn.model_selection import train_test_split\n",
    "from sklearn.metrics import mean_squared_error\n",
    "\n",
    "train, test = train_test_split(ratings, test_size=0.2, random_state=42)\n",
    "\n",
    "# Predict on test set\n",
    "test['predicted_rating'] = test.apply(lambda x: predict_rating(x['userId'], x['movieId']), axis=1)\n",
    "\n",
    "\n",
    "mse = mean_squared_error(test['rating'], test['predicted_rating'])\n",
    "print(f'MSE: {mse}')\n"
   ]
  }
 ],
 "metadata": {
  "language_info": {
   "name": "python"
  }
 },
 "nbformat": 4,
 "nbformat_minor": 2
}
